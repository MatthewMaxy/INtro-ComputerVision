{
 "cells": [
  {
   "cell_type": "markdown",
   "metadata": {},
   "source": [
    "# Pytorch基础使用"
   ]
  },
  {
   "cell_type": "markdown",
   "metadata": {},
   "source": [
    "**调用torch库**"
   ]
  },
  {
   "cell_type": "code",
   "execution_count": 2,
   "metadata": {},
   "outputs": [
    {
     "data": {
      "text/plain": [
       "'2.5.1'"
      ]
     },
     "execution_count": 2,
     "metadata": {},
     "output_type": "execute_result"
    }
   ],
   "source": [
    "import torch\n",
    "torch.__version__"
   ]
  },
  {
   "cell_type": "markdown",
   "metadata": {},
   "source": [
    "**张量的创建与变形**"
   ]
  },
  {
   "cell_type": "code",
   "execution_count": 3,
   "metadata": {},
   "outputs": [],
   "source": [
    "# 直接构建\n",
    "# 0-d, 1-d, 2-d ......\n",
    "v1 = torch.tensor(10)\n",
    "v2 = torch.tensor([1, 2, 3, 4])\n",
    "v3 = torch.tensor([[1, 2, 3], [3, 4, 5]])"
   ]
  },
  {
   "cell_type": "code",
   "execution_count": 22,
   "metadata": {},
   "outputs": [],
   "source": [
    "# API方法构造\n",
    "m1 = torch.rand(5, 3)  # [0, 1]均匀分布\n",
    "m2 = torch.randn(1, 3, 4)  # mean:0, std:1\n",
    "m3 = torch.zeros(5, 3)\n",
    "m4 = torch.ones(4, 1)\n",
    "m5 = torch.linspace(1, 10, 3)"
   ]
  },
  {
   "cell_type": "code",
   "execution_count": 23,
   "metadata": {},
   "outputs": [
    {
     "name": "stdout",
     "output_type": "stream",
     "text": [
      "torch.Size([1, 3, 4])\n",
      "torch.Size([5, 3])\n"
     ]
    }
   ],
   "source": [
    "# 尺寸\n",
    "print(m2.size())\n",
    "print(m3.shape)"
   ]
  },
  {
   "cell_type": "code",
   "execution_count": 26,
   "metadata": {},
   "outputs": [],
   "source": [
    "# reshape\n",
    "m6 = torch.tensor([1, 2, 3, 4, 5, 6, 7, 8, 9, 10])\n",
    "m7 = m6.reshape(2, 5)"
   ]
  },
  {
   "cell_type": "markdown",
   "metadata": {},
   "source": [
    "**张量索引**"
   ]
  },
  {
   "cell_type": "code",
   "execution_count": 27,
   "metadata": {},
   "outputs": [
    {
     "name": "stdout",
     "output_type": "stream",
     "text": [
      "tensor(4)\n",
      "tensor([4, 5])\n",
      "tensor([1, 2, 3, 4, 5])\n",
      "tensor([4, 5, 6, 7, 8])\n",
      "tensor([1, 2, 3, 4, 5, 6, 7, 8, 9])\n"
     ]
    }
   ],
   "source": [
    "# 张量索引 [start, end)\n",
    "x = torch.tensor([1, 2, 3, 4, 5, 6, 7, 8, 9, 10])\n",
    "print(x[3])  # 4\n",
    "print(x[3:5])  # [4, 5]\n",
    "print(x[:5])\n",
    "print(x[3:-2])\n",
    "print(x[:-1])"
   ]
  },
  {
   "cell_type": "markdown",
   "metadata": {},
   "source": [
    "整体操作和 numpy 差不多，其实这些框架的基本操作基本都是大同小异"
   ]
  },
  {
   "cell_type": "markdown",
   "metadata": {},
   "source": [
    "**与 numpy，pandas 结合**"
   ]
  },
  {
   "cell_type": "code",
   "execution_count": 29,
   "metadata": {},
   "outputs": [],
   "source": [
    "import numpy as np\n",
    "import pandas as pd\n",
    "\n",
    "v4 = np.array([2, 3, 4, 5])\n",
    "v5 = torch.tensor(v4)\n",
    "v6_dataframe = pd.DataFrame([1, 2, 3])\n",
    "v7 = torch.tensor(v6_dataframe.values)"
   ]
  },
  {
   "cell_type": "markdown",
   "metadata": {},
   "source": [
    "**数据类型转换**"
   ]
  },
  {
   "cell_type": "code",
   "execution_count": 35,
   "metadata": {},
   "outputs": [
    {
     "name": "stdout",
     "output_type": "stream",
     "text": [
      "<class 'torch.Tensor'> <class 'int'> 10\n",
      "<class 'torch.Tensor'> <class 'list'> [0.8500000238418579, 0.11999999731779099, 0.3400000035762787]\n",
      "<class 'numpy.ndarray'> 10\n",
      "<class 'numpy.ndarray'> [0.85 0.12 0.34]\n"
     ]
    }
   ],
   "source": [
    "x1 = torch.tensor(10)  # 0-d \n",
    "x2 = torch.tensor([0.85, 0.12, 0.34])  # n-d tensor\n",
    "print(type(x1), type(x1.item()), x1.item())\n",
    "print(type(x2), type(x2.tolist()), x2.tolist())\n",
    "print(type(x1.numpy()), x1.numpy())\n",
    "print(type(x2.numpy()), x2.numpy())"
   ]
  },
  {
   "cell_type": "markdown",
   "metadata": {},
   "source": [
    "**张量运算**"
   ]
  },
  {
   "cell_type": "code",
   "execution_count": 36,
   "metadata": {},
   "outputs": [
    {
     "name": "stdout",
     "output_type": "stream",
     "text": [
      "tensor([ 2,  4,  6,  8, 10, 12, 14, 16, 18, 20])\n",
      "tensor([0, 0, 0, 0, 0, 0, 0, 0, 0, 0])\n",
      "tensor([  1,   4,   9,  16,  25,  36,  49,  64,  81, 100])\n",
      "tensor([1., 1., 1., 1., 1., 1., 1., 1., 1., 1.])\n",
      "tensor([          1,           4,          27,         256,        3125,\n",
      "              46656,      823543,    16777216,   387420489, 10000000000])\n",
      "tensor([ 3,  4,  5,  6,  7,  8,  9, 10, 11, 12])\n"
     ]
    }
   ],
   "source": [
    "x = torch.tensor([1, 2, 3, 4, 5, 6, 7, 8, 9, 10])\n",
    "y = torch.tensor([1, 2, 3, 4, 5, 6, 7, 8, 9, 10])\n",
    "print(x + y)\n",
    "print(x - y)\n",
    "print(x * y)\n",
    "print(x / y)\n",
    "print(x ** y)\n",
    "print(x + 2)"
   ]
  },
  {
   "cell_type": "code",
   "execution_count": 37,
   "metadata": {},
   "outputs": [
    {
     "name": "stdout",
     "output_type": "stream",
     "text": [
      "tensor([ 2,  4,  6,  8, 10, 12, 14, 16, 18, 20])\n",
      "********* tensor([ 1,  2,  3,  4,  5,  6,  7,  8,  9, 10])\n",
      "tensor([ 2,  4,  6,  8, 10, 12, 14, 16, 18, 20])\n",
      "------- tensor([ 2,  4,  6,  8, 10, 12, 14, 16, 18, 20])\n"
     ]
    }
   ],
   "source": [
    "# add加法, add_加法(修改张量的数据)\n",
    "print(x.add(y))  # x和y不变\n",
    "print('*********', x)\n",
    "print(x.add_(y))  # x的修改\n",
    "print('-------', x)"
   ]
  },
  {
   "cell_type": "markdown",
   "metadata": {},
   "source": [
    "**广播机制**"
   ]
  },
  {
   "cell_type": "markdown",
   "metadata": {},
   "source": [
    "![](../img/broadcast.png)"
   ]
  },
  {
   "cell_type": "code",
   "execution_count": 39,
   "metadata": {},
   "outputs": [
    {
     "name": "stdout",
     "output_type": "stream",
     "text": [
      "tensor([[0],\n",
      "        [1],\n",
      "        [2]])\n",
      "tensor([[0, 1]])\n",
      "tensor([[0, 1],\n",
      "        [1, 2],\n",
      "        [2, 3]])\n"
     ]
    }
   ],
   "source": [
    "n1 = torch.arange(3).reshape((3, 1))\n",
    "n2 = torch.arange(2).reshape((1, 2))\n",
    "print(n1)\n",
    "print(n2)\n",
    "print(n1 + n2)"
   ]
  }
 ],
 "metadata": {
  "kernelspec": {
   "display_name": "Python 3",
   "language": "python",
   "name": "python3"
  },
  "language_info": {
   "codemirror_mode": {
    "name": "ipython",
    "version": 3
   },
   "file_extension": ".py",
   "mimetype": "text/x-python",
   "name": "python",
   "nbconvert_exporter": "python",
   "pygments_lexer": "ipython3",
   "version": "3.10.15"
  }
 },
 "nbformat": 4,
 "nbformat_minor": 2
}
