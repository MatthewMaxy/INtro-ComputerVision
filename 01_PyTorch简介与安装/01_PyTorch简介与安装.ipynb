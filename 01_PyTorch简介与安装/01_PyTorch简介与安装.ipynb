{
 "cells": [
  {
   "cell_type": "markdown",
   "metadata": {},
   "source": [
    "# PyTorch简介"
   ]
  },
  {
   "cell_type": "markdown",
   "metadata": {},
   "source": [
    "- PyTorch是一个开源的Python机器学习库，基于Torch库，底层由C++实现，应用于人工智能领域，如计算机视觉和自然语言处理\n",
    "  \n",
    "- PyTorch主要有两大特征：\n",
    "  \n",
    "  + 类似于NumPy的张量计算，能在 GPU 等硬件加速器上加速\n",
    "  \n",
    "  + 基于带自动微分系统的深度神经网络\n",
    "\n",
    "- 与 TensorFlow 同为主流深度学习框架"
   ]
  },
  {
   "cell_type": "markdown",
   "metadata": {},
   "source": [
    "![title](../img/3.png)"
   ]
  },
  {
   "cell_type": "markdown",
   "metadata": {},
   "source": [
    "![title](../img/4.png)"
   ]
  },
  {
   "cell_type": "markdown",
   "metadata": {},
   "source": [
    "# PyTorch环境配置"
   ]
  },
  {
   "cell_type": "markdown",
   "metadata": {},
   "source": [
    "**Step1. 安装Anaconda（pycharm）**\n",
    "\n",
    "用于管理虚拟环境，因为深度学习框架及库之间出现冲突的可能性还是比较大的，建议大家利用好 Anaconda（或pycharm） 来创建虚拟环境以避免发生冲突\n",
    "\n",
    "这部分内容是Python的基础内容，网络上相关内容也很多，不做具体介绍，如有需要可以查看：[CSDN教程](https://blog.csdn.net/Little_Carter/article/details/131031595?ops_request_misc=%257B%2522request%255Fid%2522%253A%252275979D0B-3966-4C5B-A22C-35AA97B7CDF1%2522%252C%2522scm%2522%253A%252220140713.130102334..%2522%257D&request_id=75979D0B-3966-4C5B-A22C-35AA97B7CDF1&biz_id=0&utm_medium=distribute.pc_search_result.none-task-blog-2~all~top_positive~default-2-131031595-null-null.142^v100^pc_search_result_base5&utm_term=anaconda&spm=1018.2226.3001.4187)\n",
    "\n",
    "我们的教程以 Anaconda 结合 Visual Studio Code 为例，使用 Pycharm 也可以"
   ]
  },
  {
   "cell_type": "markdown",
   "metadata": {},
   "source": [
    "安装完后创建并激活相应的虚拟环境：\n",
    "```bash\n",
    "conda create -n PL python=3.10\n",
    "conda activate PL\n",
    "```"
   ]
  },
  {
   "cell_type": "markdown",
   "metadata": {},
   "source": [
    "**Step2. 安装CUDA（可选）**\n",
    "\n",
    "如果大家使用的是Windows或者Linux系统，同时在后面的使用中希望可以使用自己的GPU加速运算，可能需要额外安装CUDA的相应组件（请确保您的设备确实可以进行GPU加速），教程相关可见：[CSDN博客](https://blog.csdn.net/tyyhmtyyhm/article/details/136840339?ops_request_misc=%257B%2522request%255Fid%2522%253A%25220232CD32-14BA-47C7-BEC1-694D81A8DE77%2522%252C%2522scm%2522%253A%252220140713.130102334..%2522%257D&request_id=0232CD32-14BA-47C7-BEC1-694D81A8DE77&biz_id=0&utm_medium=distribute.pc_search_result.none-task-blog-2~all~top_positive~default-2-136840339-null-null.142^v100^pc_search_result_base5&utm_term=%E5%AE%89%E8%A3%85CUDA&spm=1018.2226.3001.4187)"
   ]
  },
  {
   "cell_type": "markdown",
   "metadata": {},
   "source": [
    "**Step3. 在虚拟环境中安装Pytorch**\n",
    "\n",
    "Pytorch本身有GPU、CPU安装的不同版本，需要结合自己设备的具体情况选择安装版本\n",
    "\n",
    "对于安装指令的获取请访问：[Pytorch官网](https://pytorch.org/)"
   ]
  },
  {
   "cell_type": "markdown",
   "metadata": {},
   "source": [
    "![](../img/pytorch.png)"
   ]
  },
  {
   "cell_type": "markdown",
   "metadata": {},
   "source": [
    "在这里可以根据自己的系统、计算环境（CPU / GPU，如果是macos则没有区别）、CUDA版本选择合适的Pytorch版本，下方会给出相应的安装指令，如图中我选择的平台是mac，则安装命令为\n",
    "\n",
    "```bash\n",
    "pip3 install torch torchvision torchaudio\n",
    "```\n",
    "\n",
    "如果没有`pip3`安装指令，替换成`pip`即可"
   ]
  },
  {
   "cell_type": "markdown",
   "metadata": {},
   "source": [
    "⚠️ 请注意确保在你的虚拟环境里安装，对于利用anaconda的需要先激活相应的环境。在相应的虚拟环境下安装时，可以在`pip`命令前做如下补充，以保证安装在当前虚拟环境下\n",
    "\n",
    "```bash\n",
    "python -m pip install torch torchvision torchaudio\n",
    "```"
   ]
  },
  {
   "cell_type": "markdown",
   "metadata": {},
   "source": [
    "**Step4：检查安装是否成功**"
   ]
  },
  {
   "cell_type": "code",
   "execution_count": 1,
   "metadata": {},
   "outputs": [
    {
     "data": {
      "text/plain": [
       "'2.5.1'"
      ]
     },
     "execution_count": 1,
     "metadata": {},
     "output_type": "execute_result"
    }
   ],
   "source": [
    "import torch\n",
    "torch.__version__"
   ]
  }
 ],
 "metadata": {
  "kernelspec": {
   "display_name": "Python 3",
   "language": "python",
   "name": "python3"
  },
  "language_info": {
   "codemirror_mode": {
    "name": "ipython",
    "version": 3
   },
   "file_extension": ".py",
   "mimetype": "text/x-python",
   "name": "python",
   "nbconvert_exporter": "python",
   "pygments_lexer": "ipython3",
   "version": "3.10.15"
  }
 },
 "nbformat": 4,
 "nbformat_minor": 2
}
